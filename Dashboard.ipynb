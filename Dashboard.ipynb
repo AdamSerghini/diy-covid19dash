{
 "cells": [
  {
   "cell_type": "markdown",
   "metadata": {},
   "source": [
    "# DIY Covid-19 Dashboard"
   ]
  },
  {
   "cell_type": "markdown",
   "metadata": {},
   "source": [
    "The grapgh below displays data aquired from Public Health England (PHE), regarding new COVID-19 cases, hospital admissions and occupied beds with mechanical ventilators.\n",
    "To display the data of intrest, select the corrsponding option in the selection box on the top left of the graph. To display multiple datasets on the graph, hold down the \"Ctrl\" and click on the relevent option fields.\n",
    "In order to modifiy the scale of the Y-axis, select the approperiate option on the top right of the graph. To display a linear Y-axis select the \"linear\" option, and to display a logorithmic Y-axis select the \"log\" option.\n",
    "To update the graph with the most up to date information aviable from PHE, click on the \"Refersh Data\" button.\n"
   ]
  },
  {
   "cell_type": "code",
   "execution_count": 1,
   "metadata": {},
   "outputs": [],
   "source": [
    "import ipywidgets as wdg\n",
    "import pandas as pd\n",
    "import numpy as np\n",
    "import matplotlib.pyplot as plt\n",
    "import json\n",
    "from uk_covid19 import Cov19API\n",
    "\n",
    "%matplotlib inline\n",
    "plt.rcParams['figure.dpi'] = 150"
   ]
  },
  {
   "cell_type": "code",
   "execution_count": 2,
   "metadata": {},
   "outputs": [],
   "source": [
    "with open(\"newcases.json\", \"rt\") as FILE:\n",
    "    info=json.load(FILE)"
   ]
  },
  {
   "cell_type": "code",
   "execution_count": 3,
   "metadata": {},
   "outputs": [],
   "source": [
    "def parse_date(datestring):\n",
    "    \n",
    "    return pd.to_datetime(datestring, format=\"%Y-%m-%d\")\n",
    "def wrangle_data(rawdata):\n",
    "    \n",
    "    infolist=info['data']\n",
    "\n",
    "    day=[dictionary['date'] for dictionary in infolist ]\n",
    "    day.sort()\n",
    "    \n",
    "    startdate=parse_date(day[0])\n",
    "    enddate=parse_date(day[-1])\n",
    "    index=pd.date_range(startdate, enddate, freq='D')\n",
    "    newcaseseriesdf=pd.DataFrame(index=index, columns=['Cases', \"Admissions\", \"OccupiedMVBeds\"])\n",
    "\n",
    "    for entry in infolist: \n",
    "        date=parse_date(entry['date'])\n",
    "        for column in ['Cases', \"Admissions\", \"OccupiedMVBeds\"]:\n",
    "            if pd.isna(newcaseseriesdf.loc[date, column]): \n",
    "                value= float(entry[column]) if entry[column]!=None else 0.0\n",
    "                newcaseseriesdf.loc[date, column]=value\n",
    "    return newcaseseriesdf\n",
    "\n",
    "newcaseseriesdf=wrangle_data(info) "
   ]
  },
  {
   "cell_type": "code",
   "execution_count": 4,
   "metadata": {},
   "outputs": [
    {
     "data": {
      "application/vnd.jupyter.widget-view+json": {
       "model_id": "f24d03a3159e4456ac80680ef742be20",
       "version_major": 2,
       "version_minor": 0
      },
      "text/plain": [
       "Button(description='Refresh data', icon='download', style=ButtonStyle(), tooltip='Click to download current Pu…"
      ]
     },
     "metadata": {},
     "output_type": "display_data"
    }
   ],
   "source": [
    "\n",
    "\n",
    "def access_api():\n",
    "    new_covid_cases = {\n",
    "    'date' : 'date',\n",
    "    'Cases' : 'newCasesByPublishDate',\n",
    "    'Admissions' : 'newAdmissions',\n",
    "    'OccupiedMVBeds' : 'covidOccupiedMVBeds' \n",
    "    }\n",
    "\n",
    "    within_england = ['areaType=nation', 'areaName=England']\n",
    "\n",
    "    api = Cov19API(filters=within_england, structure=new_covid_cases)\n",
    "    newcases=api.get_json()\n",
    "\n",
    "    with open(\"newcases.json\", \"wt\") as FILE:\n",
    "        json.dump(newcases, FILE)\n",
    "        \n",
    "    print(\"I'm downloading data from the API...\")\n",
    "    print(\"...all done.\")\n",
    "    return newcases \n",
    "\n",
    "\n",
    "def api_button_callback(button):\n",
    "    apidata=access_api()\n",
    "    newcaseseriesdf=wrangle_data(apidata)\n",
    "    refresh_graph()\n",
    "    apibutton.icon=\"check\"\n",
    "    \n",
    "apibutton=wdg.Button(\n",
    "    description='Refresh data',\n",
    "    disabled=False,\n",
    "    button_style='', \n",
    "    tooltip='Click to download current Public Health England data',\n",
    "    icon='download'\n",
    ")\n",
    "\n",
    "\n",
    "apibutton.on_click(api_button_callback) \n",
    "display(apibutton)\n",
    "\n"
   ]
  },
  {
   "cell_type": "code",
   "execution_count": 5,
   "metadata": {},
   "outputs": [
    {
     "data": {
      "application/vnd.jupyter.widget-view+json": {
       "model_id": "cf1413fbe138489cad58c5da2a87073a",
       "version_major": 2,
       "version_minor": 0
      },
      "text/plain": [
       "HBox(children=(SelectMultiple(description='Select', index=(0,), options=('Cases', 'Admissions', 'OccupiedMVBed…"
      ]
     },
     "metadata": {},
     "output_type": "display_data"
    },
    {
     "data": {
      "application/vnd.jupyter.widget-view+json": {
       "model_id": "929e33e40e6b48fc9d72ca6352521861",
       "version_major": 2,
       "version_minor": 0
      },
      "text/plain": [
       "Output()"
      ]
     },
     "metadata": {},
     "output_type": "display_data"
    }
   ],
   "source": [
    "\n",
    "\n",
    "\n",
    "cases_cols=wdg.SelectMultiple(\n",
    "    options=['Cases', 'Admissions', 'OccupiedMVBeds'], \n",
    "    value=['Cases'], \n",
    "    rows=3, \n",
    "    description='Select',\n",
    "    disabled=False)\n",
    "\n",
    "\n",
    "\n",
    "\n",
    "case_scale=wdg.RadioButtons(\n",
    "    options=['linear', 'log'],\n",
    "    description='Scale:',\n",
    "    disabled=False\n",
    ")\n",
    "\n",
    "\n",
    "con=wdg.HBox([cases_cols, case_scale])\n",
    "\n",
    "\n",
    "def case_graph(casecolumns, casescale):\n",
    "    if casescale=='linear':\n",
    "        logscale=False\n",
    "    else:\n",
    "        logscale=True\n",
    "    ncols=len(casecolumns)\n",
    "    if ncols>0:\n",
    "         newcaseseriesdf[list(casecolumns)].plot(logy=logscale)\n",
    "    else:\n",
    "        print(\"Click to select data for graph\")\n",
    "        print(\"(CTRL-Click to select more than one category)\")\n",
    "        \n",
    "def refresh_graph():\n",
    "    current=case_scale.value\n",
    "    if current==case_scale.options[0]:\n",
    "        other=case_scale.options[1]\n",
    "    else:\n",
    "        other=case_scale.options[0]\n",
    "    case_scale.value=other # forces the redraw\n",
    "    case_scale.value=current # now we can change it back\n",
    "    \n",
    "outputs=wdg.interactive_output(case_graph, {'casecolumns': cases_cols, \"casescale\": case_scale})\n",
    "display(con, outputs)\n",
    "\n"
   ]
  },
  {
   "cell_type": "code",
   "execution_count": null,
   "metadata": {},
   "outputs": [],
   "source": []
  },
  {
   "cell_type": "code",
   "execution_count": null,
   "metadata": {},
   "outputs": [],
   "source": []
  }
 ],
 "metadata": {
  "kernelspec": {
   "display_name": "Python 3",
   "language": "python",
   "name": "python3"
  },
  "language_info": {
   "codemirror_mode": {
    "name": "ipython",
    "version": 3
   },
   "file_extension": ".py",
   "mimetype": "text/x-python",
   "name": "python",
   "nbconvert_exporter": "python",
   "pygments_lexer": "ipython3",
   "version": "3.8.5"
  }
 },
 "nbformat": 4,
 "nbformat_minor": 4
}
