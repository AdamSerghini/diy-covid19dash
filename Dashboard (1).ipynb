{
 "cells": [
  {
   "cell_type": "markdown",
   "metadata": {},
   "source": [
    "# DIY Covid-19 Dashboard"
   ]
  },
  {
   "cell_type": "markdown",
   "metadata": {},
   "source": [
    "The grapgh below displays data aquired from Public Health England (PHE), regarding new COVID-19 cases, hospital admissions and occupied beds with mechanical ventilators.\n",
    "To display the data of intrest, select the corrsponding option in the selection box on the top left of the graph. To display multiple datasets on the graph, hold down the \"Ctrl\" and click on the relevent option fields.\n",
    "In order to modifiy the scale of the Y-axis, select the approperiate option on the top right of the graph. To display a linear Y-axis select the \"linear\" option, and to display a logorithmic Y-axis select the \"log\" option.\n",
    "To update the graph with the most up to date information aviable from PHE, click on the \"Refersh Data\" button.\n"
   ]
  },
  {
   "cell_type": "code",
   "execution_count": 114,
   "metadata": {},
   "outputs": [],
   "source": [
    "import ipywidgets as wdg\n",
    "import pandas as pd\n",
    "import numpy as np\n",
    "import matplotlib.pyplot as plt\n",
    "import json\n",
    "from uk_covid19 import Cov19API\n",
    "\n",
    "%matplotlib inline\n",
    "# make figures larger\n",
    "plt.rcParams['figure.dpi'] = 100"
   ]
  },
  {
   "cell_type": "code",
   "execution_count": 115,
   "metadata": {},
   "outputs": [],
   "source": [
    "with open(\"newcases.json\", \"rt\") as FILE:\n",
    "    info=json.load(FILE)"
   ]
  },
  {
   "cell_type": "code",
   "execution_count": 116,
   "metadata": {},
   "outputs": [],
   "source": [
    "def parse_date(datestring):\n",
    "    \n",
    "    return pd.to_datetime(datestring, format=\"%Y-%m-%d\")\n",
    "def wrangle_data(rawdata):\n",
    "    \"\"\" Parameters: rawdata - data from json file or API call. Returns a dataframe.\n",
    "    Edit to include the code that wrangles the data, creates the dataframe and fills it in. \"\"\"\n",
    "    infolist=info['data']\n",
    "\n",
    "    day=[dictionary['date'] for dictionary in infolist ]\n",
    "    day.sort()\n",
    "    \n",
    "    startdate=parse_date(day[0])\n",
    "    enddate=parse_date(day[-1])\n",
    "    index=pd.date_range(startdate, enddate, freq='D')\n",
    "    newcaseseriesdf=pd.DataFrame(index=index, columns=['Cases', \"Admissions\", \"OccupiedMVBeds\"])\n",
    "\n",
    "    for entry in infolist: # each entry is a dictionary with date, cases, hospital and deaths\n",
    "        date=parse_date(entry['date'])\n",
    "        for column in ['Cases', \"Admissions\", \"OccupiedMVBeds\"]:\n",
    "            if pd.isna(newcaseseriesdf.loc[date, column]): \n",
    "                value= float(entry[column]) if entry[column]!=None else 0.0\n",
    "                newcaseseriesdf.loc[date, column]=value\n",
    "    return newcaseseriesdf\n",
    "\n",
    "# putting the wrangling code into a function allows you to call it again after refreshing the data through \n",
    "# the API. You should call the function directly on the JSON data when the dashboard starts, by including \n",
    "# the call in the cell as below:\n",
    "newcaseseriesdf=wrangle_data(info) # df is the dataframe for plotting"
   ]
  },
  {
   "cell_type": "code",
   "execution_count": 117,
   "metadata": {},
   "outputs": [
    {
     "data": {
      "application/vnd.jupyter.widget-view+json": {
       "model_id": "43a34c319bd845a8a093886a9307baf8",
       "version_major": 2,
       "version_minor": 0
      },
      "text/plain": [
       "Button(description='Refresh data', icon='download', style=ButtonStyle(), tooltip='Click to download current Pu…"
      ]
     },
     "metadata": {},
     "output_type": "display_data"
    }
   ],
   "source": [
    "# Place your API access code in this function. Do not call this function directly; it will be called by \n",
    "# the button callback. \n",
    "\n",
    "def access_api():\n",
    "    new_covid_cases = {\n",
    "    'date' : 'date',\n",
    "    'Cases' : 'newCasesByPublishDate',\n",
    "    'Admissions' : 'newAdmissions',\n",
    "    'OccupiedMVBeds' : 'covidOccupiedMVBeds' \n",
    "    }\n",
    "\n",
    "    within_england = ['areaType=nation', 'areaName=England']\n",
    "\n",
    "    api = Cov19API(filters=within_england, structure=new_covid_cases)\n",
    "    newcases=api.get_json()\n",
    "\n",
    "    with open(\"newcases.json\", \"wt\") as FILE:\n",
    "        json.dump(newcases, FILE)\n",
    "        \n",
    "    print(\"I'm downloading data from the API...\")\n",
    "    print(\"...all done.\")\n",
    "    return newcases # return data read from the API\n",
    "\n",
    "\n",
    "# Printout from this function will be lost in Voila unless captured in an\n",
    "# output widget - therefore, we give feedback to the user by changing the \n",
    "# appearance of the button\n",
    "def api_button_callback(button):\n",
    "    \"\"\" Button callback - it must take the button as its parameter (unused in this case).\n",
    "    Accesses API, wrangles data, updates global variable df used for plotting. \"\"\"\n",
    "    # Get fresh data from the API. If you have time, include some error handling\n",
    "    # around this call.\n",
    "    apidata=access_api()\n",
    "    # wrangle the data and overwrite the dataframe for plotting\n",
    "    #global newcaseseriesdf\n",
    "    newcaseseriesdf=wrangle_data(apidata)\n",
    "    # the graph won't refresh until the user interacts with the widget.\n",
    "    # this function simulates the interaction, see Graph and Analysis below.\n",
    "    # you can omit this step in the first instance\n",
    "    refresh_graph()\n",
    "    # after all is done, you can switch the icon on the button to a \"check\" sign\n",
    "    # and optionally disable the button - it won't be needed again. You can use icons\n",
    "    # \"unlink\" or \"times\" and change the button text to \"Unavailable\" in case the \n",
    "    # api call fails.\n",
    "    apibutton.icon=\"check\"\n",
    "    # apibutton.disabled=True\n",
    "\n",
    "\n",
    "apibutton=wdg.Button(\n",
    "    description='Refresh data',\n",
    "    disabled=False,\n",
    "    button_style='', # 'success', 'info', 'warning', 'danger' or ''\n",
    "    tooltip='Click to download current Public Health England data',\n",
    "    icon='download' # (FontAwesome names without the `fa-` prefix)\n",
    ")\n",
    "\n",
    "# remember to register your button callback function with the button\n",
    "apibutton.on_click(api_button_callback) # the name of your function inside these brackets\n",
    "\n",
    "display(apibutton)\n",
    "\n",
    "# run all cells before clicking on this button"
   ]
  },
  {
   "cell_type": "code",
   "execution_count": 118,
   "metadata": {},
   "outputs": [
    {
     "data": {
      "application/vnd.jupyter.widget-view+json": {
       "model_id": "4f1bc9622e774a728490c19313eecf4f",
       "version_major": 2,
       "version_minor": 0
      },
      "text/plain": [
       "HBox(children=(SelectMultiple(description='Select', index=(0,), options=('Cases', 'Admissions', 'OccupiedMVBed…"
      ]
     },
     "metadata": {},
     "output_type": "display_data"
    },
    {
     "data": {
      "application/vnd.jupyter.widget-view+json": {
       "model_id": "0cc16259c4e646f5b65d133148ae17be",
       "version_major": 2,
       "version_minor": 0
      },
      "text/plain": [
       "Output()"
      ]
     },
     "metadata": {},
     "output_type": "display_data"
    }
   ],
   "source": [
    "\n",
    "\n",
    "\n",
    "cases_cols=wdg.SelectMultiple(\n",
    "    options=['Cases', 'Admissions', 'OccupiedMVBeds'], # options available\n",
    "    value=['Cases'], # initial value\n",
    "    rows=3, # rows of the selection box\n",
    "    description='Select',\n",
    "    disabled=False)\n",
    "\n",
    "\n",
    "\n",
    "\n",
    "case_scale=wdg.RadioButtons(\n",
    "    options=['linear', 'log'],\n",
    "#    value='pineapple', # Defaults to 'pineapple'\n",
    "#    layout={'width': 'max-content'}, # If the items' names are long\n",
    "    description='Scale:',\n",
    "    disabled=False\n",
    ")\n",
    "\n",
    "# try replacing HBox with a VBox\n",
    "con=wdg.HBox([cases_cols, case_scale])\n",
    "\n",
    "\n",
    "def case_graph(casecolumns, casescale):\n",
    "    # our callback function.\n",
    "    if casescale=='linear':\n",
    "        logscale=False\n",
    "    else:\n",
    "        logscale=True\n",
    "    ncols=len(casecolumns)\n",
    "    if ncols>0:\n",
    "         newcaseseriesdf[list(casecolumns)].plot(logy=logscale)\n",
    "    else:\n",
    "        # if the user has not selected any column, print a message instead\n",
    "        print(\"Click to select data for graph\")\n",
    "        print(\"(CTRL-Click to select more than one category)\")\n",
    "        \n",
    "def refresh_graph():\n",
    "    \"\"\" We change the value of the widget in order to force a redraw of the graph;\n",
    "    this is useful when the data have been updated. This is a bit of a gimmick; it\n",
    "    needs to be customised for one of your widgets. \"\"\"\n",
    "    current=case_scale.value\n",
    "    if current==case_scale.options[0]:\n",
    "        other=case_scale.options[1]\n",
    "    else:\n",
    "        other=case_scale.options[0]\n",
    "    case_scale.value=other # forces the redraw\n",
    "    case_scale.value=current # now we can change it back\n",
    "    \n",
    "# keep calling age_graph(graphcolumns=value_of_agecols); capture output in variable output    \n",
    "outputs=wdg.interactive_output(case_graph, {'casecolumns': cases_cols, \"casescale\": case_scale})\n",
    "\n",
    "display(con, outputs)\n",
    "\n"
   ]
  },
  {
   "cell_type": "code",
   "execution_count": null,
   "metadata": {},
   "outputs": [],
   "source": []
  },
  {
   "cell_type": "code",
   "execution_count": null,
   "metadata": {},
   "outputs": [],
   "source": []
  }
 ],
 "metadata": {
  "kernelspec": {
   "display_name": "Python 3",
   "language": "python",
   "name": "python3"
  },
  "language_info": {
   "codemirror_mode": {
    "name": "ipython",
    "version": 3
   },
   "file_extension": ".py",
   "mimetype": "text/x-python",
   "name": "python",
   "nbconvert_exporter": "python",
   "pygments_lexer": "ipython3",
   "version": "3.8.5"
  }
 },
 "nbformat": 4,
 "nbformat_minor": 4
}
